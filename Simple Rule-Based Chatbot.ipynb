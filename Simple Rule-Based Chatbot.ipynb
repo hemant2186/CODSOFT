{
 "cells": [
  {
   "cell_type": "code",
   "execution_count": 3,
   "id": "ebc44003-5375-4bcc-a4b3-179f24429705",
   "metadata": {},
   "outputs": [
    {
     "name": "stdout",
     "output_type": "stream",
     "text": [
      "Welcome to the CodSoft Rule-Based Chatbot! (type 'bye' to exit)\n"
     ]
    },
    {
     "name": "stdin",
     "output_type": "stream",
     "text": [
      "You:  Hello\n"
     ]
    },
    {
     "name": "stdout",
     "output_type": "stream",
     "text": [
      "Bot: Hello! How can I assist you today?\n"
     ]
    },
    {
     "name": "stdin",
     "output_type": "stream",
     "text": [
      "You:  how are you\n"
     ]
    },
    {
     "name": "stdout",
     "output_type": "stream",
     "text": [
      "Bot: I'm just a chatbot, but I'm here to help you!\n"
     ]
    },
    {
     "name": "stdin",
     "output_type": "stream",
     "text": [
      "You:  help\n"
     ]
    },
    {
     "name": "stdout",
     "output_type": "stream",
     "text": [
      "Bot: Sure, please tell me how I can help you.\n"
     ]
    },
    {
     "name": "stdin",
     "output_type": "stream",
     "text": [
      "You:  your name\n"
     ]
    },
    {
     "name": "stdout",
     "output_type": "stream",
     "text": [
      "Bot: I am CodSoft AI Chatbot.\n"
     ]
    },
    {
     "name": "stdin",
     "output_type": "stream",
     "text": [
      "You:  can you do a favour ?\n"
     ]
    },
    {
     "name": "stdout",
     "output_type": "stream",
     "text": [
      "Bot: Sorry, I didn't understand that. Can you please rephrase?\n"
     ]
    },
    {
     "name": "stdin",
     "output_type": "stream",
     "text": [
      "You:  bye\n"
     ]
    },
    {
     "name": "stdout",
     "output_type": "stream",
     "text": [
      "Bot: Goodbye! Have a great day.\n"
     ]
    }
   ],
   "source": [
    "# Simple Rule-Based Chatbot\n",
    "\n",
    "def chatbot_response(user_input):\n",
    "    user_input = user_input.lower().strip()\n",
    "    \n",
    "    # Greetings\n",
    "    if \"hello\" in user_input or \"hi\" in user_input:\n",
    "        return \"Hello! How can I assist you today?\"\n",
    "    elif \"how are you\" in user_input:\n",
    "        return \"I'm just a chatbot, but I'm here to help you!\"\n",
    "    # Asking for help\n",
    "    elif \"help\" in user_input or \"support\" in user_input:\n",
    "        return \"Sure, please tell me how I can help you.\"\n",
    "    # Name query\n",
    "    elif \"your name\" in user_input:\n",
    "        return \"I am CodSoft AI Chatbot.\"\n",
    "    # Goodbye\n",
    "    elif \"bye\" in user_input or \"goodbye\" in user_input:\n",
    "        return \"Goodbye! Have a great day.\"\n",
    "    # Thanks\n",
    "    elif \"thank you\" in user_input or \"thanks\" in user_input:\n",
    "        return \"You're welcome!\"\n",
    "    # Default fallback\n",
    "    else:\n",
    "        return \"Sorry, I didn't understand that. Can you please rephrase?\"\n",
    "\n",
    "# Main chat loop\n",
    "if __name__ == \"__main__\":\n",
    "    print(\"Welcome to the CodSoft Rule-Based Chatbot! (type 'bye' to exit)\")\n",
    "    while True:\n",
    "        user_input = input(\"You: \")\n",
    "        response = chatbot_response(user_input)\n",
    "        print(\"Bot:\", response)\n",
    "        if \"bye\" in user_input.lower():\n",
    "            break"
   ]
  },
  {
   "cell_type": "code",
   "execution_count": null,
   "id": "5c8a2fcd-7a8b-481a-ba82-e304a757a562",
   "metadata": {},
   "outputs": [],
   "source": []
  },
  {
   "cell_type": "code",
   "execution_count": null,
   "id": "87f5d812-a9b7-4be1-b0ce-4026fef661b9",
   "metadata": {},
   "outputs": [],
   "source": []
  }
 ],
 "metadata": {
  "kernelspec": {
   "display_name": "Python 3 (ipykernel)",
   "language": "python",
   "name": "python3"
  },
  "language_info": {
   "codemirror_mode": {
    "name": "ipython",
    "version": 3
   },
   "file_extension": ".py",
   "mimetype": "text/x-python",
   "name": "python",
   "nbconvert_exporter": "python",
   "pygments_lexer": "ipython3",
   "version": "3.11.9"
  }
 },
 "nbformat": 4,
 "nbformat_minor": 5
}
